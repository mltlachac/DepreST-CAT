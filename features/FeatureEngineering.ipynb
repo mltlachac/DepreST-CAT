{
 "cells": [
  {
   "cell_type": "code",
   "execution_count": 79,
   "metadata": {},
   "outputs": [],
   "source": [
    "#author: ML Tlachac\n",
    "#for DepreST-CAT, 2021\n",
    "\n",
    "import pandas as pd\n",
    "\n",
    "t1 = pd.read_csv(\"timeseriesText1DepreST-CAT2021.csv\").sort_values(by = [\"id\"]).reset_index()\n",
    "t2 = pd.read_csv(\"timeseriesText2DepreST-CAT2021.csv\").sort_values(by = [\"id\"]).reset_index()\n",
    "c1 = pd.read_csv(\"timeseriesCall1DepreST-CAT2021.csv\").sort_values(by = [\"id\"]).reset_index()\n",
    "c2 = pd.read_csv(\"timeseriesCall2DepreST-CAT2021.csv\").sort_values(by = [\"id\"]).reset_index()\n",
    "newdf = pd.DataFrame()\n",
    "newdf[\"id\"] = t1[\"id\"]\n",
    "newdf[\"inTexts\"] = t1[\"timeseries\"]\n",
    "newdf[\"outTexts\"] = t2[\"timeseries\"]\n",
    "newdf[\"inCalls\"] = c1[\"timeseries\"]\n",
    "newdf[\"outCalls\"] = c2[\"timeseries\"]\n",
    "newdf.to_csv(\"timeSeriesDepreST-CAT.csv\", index = False)"
   ]
  },
  {
   "cell_type": "code",
   "execution_count": 80,
   "metadata": {},
   "outputs": [
    {
     "name": "stdout",
     "output_type": "stream",
     "text": [
      "*** Feature extraction started ***\n"
     ]
    },
    {
     "name": "stderr",
     "output_type": "stream",
     "text": [
      "C:\\Users\\mltla\\Anaconda3\\lib\\site-packages\\ipykernel_launcher.py:24: UserWarning: Using default sampling frequency set in configuration file.\n"
     ]
    },
    {
     "data": {
      "text/html": [
       "\n",
       "              <p>\n",
       "                  Progress: 100% Complete\n",
       "              <p/>            \n",
       "              <progress\n",
       "                  value='369'\n",
       "                  max='369',\n",
       "                  style='width: 25%',\n",
       "              >\n",
       "                  369\n",
       "              </progress>\n",
       "\n",
       "    "
      ],
      "text/plain": [
       "<IPython.core.display.HTML object>"
      ]
     },
     "metadata": {},
     "output_type": "display_data"
    },
    {
     "name": "stdout",
     "output_type": "stream",
     "text": [
      "\n",
      "*** Feature extraction finished ***\n",
      "*** Feature extraction started ***\n"
     ]
    },
    {
     "data": {
      "text/html": [
       "\n",
       "              <p>\n",
       "                  Progress: 100% Complete\n",
       "              <p/>            \n",
       "              <progress\n",
       "                  value='369'\n",
       "                  max='369',\n",
       "                  style='width: 25%',\n",
       "              >\n",
       "                  369\n",
       "              </progress>\n",
       "\n",
       "    "
      ],
      "text/plain": [
       "<IPython.core.display.HTML object>"
      ]
     },
     "metadata": {},
     "output_type": "display_data"
    },
    {
     "name": "stdout",
     "output_type": "stream",
     "text": [
      "\n",
      "*** Feature extraction finished ***\n",
      "*** Feature extraction started ***\n"
     ]
    },
    {
     "data": {
      "text/html": [
       "\n",
       "              <p>\n",
       "                  Progress: 100% Complete\n",
       "              <p/>            \n",
       "              <progress\n",
       "                  value='369'\n",
       "                  max='369',\n",
       "                  style='width: 25%',\n",
       "              >\n",
       "                  369\n",
       "              </progress>\n",
       "\n",
       "    "
      ],
      "text/plain": [
       "<IPython.core.display.HTML object>"
      ]
     },
     "metadata": {},
     "output_type": "display_data"
    },
    {
     "name": "stdout",
     "output_type": "stream",
     "text": [
      "\n",
      "*** Feature extraction finished ***\n",
      "*** Feature extraction started ***\n"
     ]
    },
    {
     "data": {
      "text/html": [
       "\n",
       "              <p>\n",
       "                  Progress: 100% Complete\n",
       "              <p/>            \n",
       "              <progress\n",
       "                  value='369'\n",
       "                  max='369',\n",
       "                  style='width: 25%',\n",
       "              >\n",
       "                  369\n",
       "              </progress>\n",
       "\n",
       "    "
      ],
      "text/plain": [
       "<IPython.core.display.HTML object>"
      ]
     },
     "metadata": {},
     "output_type": "display_data"
    },
    {
     "name": "stdout",
     "output_type": "stream",
     "text": [
      "\n",
      "*** Feature extraction finished ***\n",
      "*** Feature extraction started ***\n"
     ]
    },
    {
     "data": {
      "text/html": [
       "\n",
       "              <p>\n",
       "                  Progress: 100% Complete\n",
       "              <p/>            \n",
       "              <progress\n",
       "                  value='369'\n",
       "                  max='369',\n",
       "                  style='width: 25%',\n",
       "              >\n",
       "                  369\n",
       "              </progress>\n",
       "\n",
       "    "
      ],
      "text/plain": [
       "<IPython.core.display.HTML object>"
      ]
     },
     "metadata": {},
     "output_type": "display_data"
    },
    {
     "name": "stdout",
     "output_type": "stream",
     "text": [
      "\n",
      "*** Feature extraction finished ***\n",
      "*** Feature extraction started ***\n"
     ]
    },
    {
     "data": {
      "text/html": [
       "\n",
       "              <p>\n",
       "                  Progress: 100% Complete\n",
       "              <p/>            \n",
       "              <progress\n",
       "                  value='369'\n",
       "                  max='369',\n",
       "                  style='width: 25%',\n",
       "              >\n",
       "                  369\n",
       "              </progress>\n",
       "\n",
       "    "
      ],
      "text/plain": [
       "<IPython.core.display.HTML object>"
      ]
     },
     "metadata": {},
     "output_type": "display_data"
    },
    {
     "name": "stdout",
     "output_type": "stream",
     "text": [
      "\n",
      "*** Feature extraction finished ***\n",
      "*** Feature extraction started ***\n"
     ]
    },
    {
     "data": {
      "text/html": [
       "\n",
       "              <p>\n",
       "                  Progress: 100% Complete\n",
       "              <p/>            \n",
       "              <progress\n",
       "                  value='369'\n",
       "                  max='369',\n",
       "                  style='width: 25%',\n",
       "              >\n",
       "                  369\n",
       "              </progress>\n",
       "\n",
       "    "
      ],
      "text/plain": [
       "<IPython.core.display.HTML object>"
      ]
     },
     "metadata": {},
     "output_type": "display_data"
    },
    {
     "name": "stdout",
     "output_type": "stream",
     "text": [
      "\n",
      "*** Feature extraction finished ***\n",
      "*** Feature extraction started ***\n"
     ]
    },
    {
     "data": {
      "text/html": [
       "\n",
       "              <p>\n",
       "                  Progress: 100% Complete\n",
       "              <p/>            \n",
       "              <progress\n",
       "                  value='369'\n",
       "                  max='369',\n",
       "                  style='width: 25%',\n",
       "              >\n",
       "                  369\n",
       "              </progress>\n",
       "\n",
       "    "
      ],
      "text/plain": [
       "<IPython.core.display.HTML object>"
      ]
     },
     "metadata": {},
     "output_type": "display_data"
    },
    {
     "name": "stdout",
     "output_type": "stream",
     "text": [
      "\n",
      "*** Feature extraction finished ***\n",
      "*** Feature extraction started ***\n"
     ]
    },
    {
     "data": {
      "text/html": [
       "\n",
       "              <p>\n",
       "                  Progress: 100% Complete\n",
       "              <p/>            \n",
       "              <progress\n",
       "                  value='369'\n",
       "                  max='369',\n",
       "                  style='width: 25%',\n",
       "              >\n",
       "                  369\n",
       "              </progress>\n",
       "\n",
       "    "
      ],
      "text/plain": [
       "<IPython.core.display.HTML object>"
      ]
     },
     "metadata": {},
     "output_type": "display_data"
    },
    {
     "name": "stdout",
     "output_type": "stream",
     "text": [
      "\n",
      "*** Feature extraction finished ***\n",
      "*** Feature extraction started ***\n"
     ]
    },
    {
     "data": {
      "text/html": [
       "\n",
       "              <p>\n",
       "                  Progress: 100% Complete\n",
       "              <p/>            \n",
       "              <progress\n",
       "                  value='369'\n",
       "                  max='369',\n",
       "                  style='width: 25%',\n",
       "              >\n",
       "                  369\n",
       "              </progress>\n",
       "\n",
       "    "
      ],
      "text/plain": [
       "<IPython.core.display.HTML object>"
      ]
     },
     "metadata": {},
     "output_type": "display_data"
    },
    {
     "name": "stdout",
     "output_type": "stream",
     "text": [
      "\n",
      "*** Feature extraction finished ***\n",
      "*** Feature extraction started ***\n"
     ]
    },
    {
     "data": {
      "text/html": [
       "\n",
       "              <p>\n",
       "                  Progress: 100% Complete\n",
       "              <p/>            \n",
       "              <progress\n",
       "                  value='369'\n",
       "                  max='369',\n",
       "                  style='width: 25%',\n",
       "              >\n",
       "                  369\n",
       "              </progress>\n",
       "\n",
       "    "
      ],
      "text/plain": [
       "<IPython.core.display.HTML object>"
      ]
     },
     "metadata": {},
     "output_type": "display_data"
    },
    {
     "name": "stdout",
     "output_type": "stream",
     "text": [
      "\n",
      "*** Feature extraction finished ***\n",
      "*** Feature extraction started ***\n"
     ]
    },
    {
     "data": {
      "text/html": [
       "\n",
       "              <p>\n",
       "                  Progress: 100% Complete\n",
       "              <p/>            \n",
       "              <progress\n",
       "                  value='369'\n",
       "                  max='369',\n",
       "                  style='width: 25%',\n",
       "              >\n",
       "                  369\n",
       "              </progress>\n",
       "\n",
       "    "
      ],
      "text/plain": [
       "<IPython.core.display.HTML object>"
      ]
     },
     "metadata": {},
     "output_type": "display_data"
    },
    {
     "name": "stdout",
     "output_type": "stream",
     "text": [
      "\n",
      "*** Feature extraction finished ***\n",
      "*** Feature extraction started ***\n"
     ]
    },
    {
     "data": {
      "text/html": [
       "\n",
       "              <p>\n",
       "                  Progress: 100% Complete\n",
       "              <p/>            \n",
       "              <progress\n",
       "                  value='369'\n",
       "                  max='369',\n",
       "                  style='width: 25%',\n",
       "              >\n",
       "                  369\n",
       "              </progress>\n",
       "\n",
       "    "
      ],
      "text/plain": [
       "<IPython.core.display.HTML object>"
      ]
     },
     "metadata": {},
     "output_type": "display_data"
    },
    {
     "name": "stdout",
     "output_type": "stream",
     "text": [
      "\n",
      "*** Feature extraction finished ***\n",
      "*** Feature extraction started ***\n"
     ]
    },
    {
     "data": {
      "text/html": [
       "\n",
       "              <p>\n",
       "                  Progress: 100% Complete\n",
       "              <p/>            \n",
       "              <progress\n",
       "                  value='369'\n",
       "                  max='369',\n",
       "                  style='width: 25%',\n",
       "              >\n",
       "                  369\n",
       "              </progress>\n",
       "\n",
       "    "
      ],
      "text/plain": [
       "<IPython.core.display.HTML object>"
      ]
     },
     "metadata": {},
     "output_type": "display_data"
    },
    {
     "name": "stdout",
     "output_type": "stream",
     "text": [
      "\n",
      "*** Feature extraction finished ***\n",
      "*** Feature extraction started ***\n"
     ]
    },
    {
     "data": {
      "text/html": [
       "\n",
       "              <p>\n",
       "                  Progress: 100% Complete\n",
       "              <p/>            \n",
       "              <progress\n",
       "                  value='369'\n",
       "                  max='369',\n",
       "                  style='width: 25%',\n",
       "              >\n",
       "                  369\n",
       "              </progress>\n",
       "\n",
       "    "
      ],
      "text/plain": [
       "<IPython.core.display.HTML object>"
      ]
     },
     "metadata": {},
     "output_type": "display_data"
    },
    {
     "name": "stdout",
     "output_type": "stream",
     "text": [
      "\n",
      "*** Feature extraction finished ***\n",
      "*** Feature extraction started ***\n"
     ]
    },
    {
     "data": {
      "text/html": [
       "\n",
       "              <p>\n",
       "                  Progress: 100% Complete\n",
       "              <p/>            \n",
       "              <progress\n",
       "                  value='369'\n",
       "                  max='369',\n",
       "                  style='width: 25%',\n",
       "              >\n",
       "                  369\n",
       "              </progress>\n",
       "\n",
       "    "
      ],
      "text/plain": [
       "<IPython.core.display.HTML object>"
      ]
     },
     "metadata": {},
     "output_type": "display_data"
    },
    {
     "name": "stdout",
     "output_type": "stream",
     "text": [
      "\n",
      "*** Feature extraction finished ***\n"
     ]
    }
   ],
   "source": [
    "import tsfel\n",
    "import numpy as np\n",
    "\n",
    "def convert_to_float_array(a):\n",
    "    result = []\n",
    "    for element in a:\n",
    "        result.append(float(element))\n",
    "    return np.asarray(result)\n",
    "\n",
    "for i in [2*7,4*7,8*7,16*7]:\n",
    "    df = pd.read_csv(\"timeSeriesDepreST-CAT.csv\")\n",
    "    for variable in [\"inTexts\", \"outTexts\", \"inCalls\", \"outCalls\"]:\n",
    "        vardf = pd.read_csv(\"timeSeriesDepreST-CAT.csv\")\n",
    "        vardf[variable] = vardf[variable].apply(lambda x: x[1:-1])\n",
    "        vardf[variable] = vardf[variable].apply(lambda x: x.split(','))\n",
    "        var = []\n",
    "        for v in range(0, vardf.shape[0]):\n",
    "            var.append(vardf[variable][v][:i])\n",
    "        vardf[variable] = var\n",
    "        vardf[variable] = vardf[variable].apply(lambda x: convert_to_float_array(x))\n",
    "        vardf = vardf[variable]\n",
    "                \n",
    "        cfg = tsfel.get_features_by_domain()\n",
    "        featureDF = tsfel.time_series_features_extractor(cfg, vardf)\n",
    "        \n",
    "        names = featureDF.columns\n",
    "        newnames = []\n",
    "        for name in names:\n",
    "            newnames.append(variable + name)\n",
    "        featureDF.columns = newnames\n",
    "        \n",
    "        df = pd.concat([df, featureDF], axis=1)\n",
    "\n",
    "        \n",
    "    df.to_csv(\"features\" + str(int(i/7)) + \"weeksDepreST-CAT2021.csv\", index = False)"
   ]
  },
  {
   "cell_type": "code",
   "execution_count": 86,
   "metadata": {},
   "outputs": [
    {
     "name": "stdout",
     "output_type": "stream",
     "text": [
      "143.0\n",
      "150.0\n",
      "164.0\n",
      "192.0\n"
     ]
    }
   ],
   "source": [
    "extraDF = pd.read_csv(\"surveysDepreST-CAT.csv\").sort_values(by = [\"id\"]).reset_index()\n",
    "\n",
    "for i in [2*7,4*7,8*7,16*7]:\n",
    "    df= pd.read_csv(\"features\" + str(int(i/7)) + \"weeksDepreST-CAT2021.csv\")\n",
    "    print((df.shape[1]-1)/4)\n",
    "    \n",
    "    df[\"phq9\"] = extraDF[\"PHQ - Total\"]\n",
    "    df[\"gad7\"] = extraDF[\"GAD - Total\"]\n",
    "\n",
    "    df = df.drop(columns = [\"inTexts\",\"outTexts\",\"inCalls\",\"outCalls\"])\n",
    "    df.to_csv(\"featureSet\" + str(int(i/7)) + \"weeksDepreST-CAT.csv\", index = False)"
   ]
  },
  {
   "cell_type": "code",
   "execution_count": null,
   "metadata": {},
   "outputs": [],
   "source": []
  }
 ],
 "metadata": {
  "kernelspec": {
   "display_name": "Python 3",
   "language": "python",
   "name": "python3"
  },
  "language_info": {
   "codemirror_mode": {
    "name": "ipython",
    "version": 3
   },
   "file_extension": ".py",
   "mimetype": "text/x-python",
   "name": "python",
   "nbconvert_exporter": "python",
   "pygments_lexer": "ipython3",
   "version": "3.7.6"
  }
 },
 "nbformat": 4,
 "nbformat_minor": 4
}
